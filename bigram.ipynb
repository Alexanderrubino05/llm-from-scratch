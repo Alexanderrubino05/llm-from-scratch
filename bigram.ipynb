{
 "cells": [
  {
   "cell_type": "code",
   "execution_count": 407,
   "id": "9a534f21-4706-42ce-a17c-9a13b662c2c7",
   "metadata": {},
   "outputs": [],
   "source": [
    "import torch\n",
    "import torch.nn as nn\n",
    "from torch.nn import functional as F"
   ]
  },
  {
   "cell_type": "code",
   "execution_count": 408,
   "id": "d8014f85-76d2-4fb9-84b8-da12a49658bf",
   "metadata": {},
   "outputs": [],
   "source": [
    "device = 'mps' if torch.backends.mps.is_available() else 'cpu'\n",
    "# for windows\n",
    "# device = 'cuda' if torch.cuda.is_available() else 'cpu'"
   ]
  },
  {
   "cell_type": "markdown",
   "id": "81d806cd-3539-40bf-9419-d4550f9d034e",
   "metadata": {},
   "source": [
    "## Reading text from .txt"
   ]
  },
  {
   "cell_type": "code",
   "execution_count": 409,
   "id": "57c91b15-8781-4942-9b96-f1bef21004ec",
   "metadata": {
    "scrolled": true
   },
   "outputs": [],
   "source": [
    "wizard_of_oz_book = \"wizard_of_oz.txt\"\n",
    "shakespeare = \"shakespeare.txt\"\n",
    "\n",
    "cars = \"\"\n",
    "with open(shakespeare, 'r', encoding='utf-8') as f:\n",
    "    text = f.read()\n",
    "    chars = sorted(list(set(text)))\n",
    "\n",
    "vocab_size = len(chars)"
   ]
  },
  {
   "cell_type": "markdown",
   "id": "d7cf4b07-170a-438f-8ce5-fa1f66c0040f",
   "metadata": {},
   "source": [
    "## Tokenizer"
   ]
  },
  {
   "cell_type": "code",
   "execution_count": null,
   "id": "da23f0df-1c8b-4a36-9a45-988231cbdaae",
   "metadata": {},
   "outputs": [],
   "source": [
    "string_to_int = { ch:i for i, ch in enumerate(chars) }\n",
    "int_to_string = { i:ch for i, ch in enumerate(chars) }\n",
    "encode = lambda s: [string_to_int[c] for c in s]\n",
    "decode = lambda l: ''.join([int_to_string[i] for i in l])\n",
    "\n",
    "data = torch.tensor(encode(text), dtype=torch.long)\n",
    "data[:100] # First 100 characters of book tokonized"
   ]
  },
  {
   "cell_type": "code",
   "execution_count": 411,
   "id": "d15c2b2a-17eb-496f-a4dd-f30a4a4ff414",
   "metadata": {},
   "outputs": [],
   "source": [
    "# Let's now split up the data into train and validation sets\n",
    "n = int(0.9*len(data))\n",
    "train_data = data[:n]\n",
    "val_data = data[n:]"
   ]
  },
  {
   "cell_type": "markdown",
   "id": "6b70c6c3-0dc0-4901-9515-85c507e05e8e",
   "metadata": {},
   "source": [
    "## Getting batch from text"
   ]
  },
  {
   "cell_type": "code",
   "execution_count": 412,
   "id": "6df6c053-eadb-4b8a-89cd-c423b11eb643",
   "metadata": {
    "scrolled": true
   },
   "outputs": [
    {
     "name": "stdout",
     "output_type": "stream",
     "text": [
      "inputs:\n",
      "torch.Size([32, 128])\n",
      "tensor([[52, 56, 63,  ..., 56, 54, 43],\n",
      "        [45, 43, 56,  ..., 39, 58,  1],\n",
      "        [ 6,  1, 39,  ..., 47, 57,  1],\n",
      "        ...,\n",
      "        [46, 53, 57,  ..., 33, 17, 17],\n",
      "        [32, 20, 10,  ...,  0, 37, 53],\n",
      "        [43,  1, 58,  ..., 61,  1, 57]], device='mps:0')\n",
      "targets:\n",
      "torch.Size([32, 128])\n",
      "tensor([[56, 63,  5,  ..., 54, 43, 56],\n",
      "        [43, 56,  1,  ..., 58,  1, 52],\n",
      "        [ 1, 39, 52,  ..., 57,  1, 45],\n",
      "        ...,\n",
      "        [53, 57, 58,  ..., 17, 17, 26],\n",
      "        [20, 10,  0,  ..., 37, 53, 59],\n",
      "        [ 1, 58, 46,  ...,  1, 57, 53]], device='mps:0')\n"
     ]
    }
   ],
   "source": [
    "batch_size = 32\n",
    "block_size = 128\n",
    "\n",
    "def get_batch(split):\n",
    "    # generate a small batch of data of inputs x and targets y\n",
    "    data = train_data if split == 'train' else val_data\n",
    "    ix = torch.randint(len(data) - block_size, (batch_size,))\n",
    "    x = torch.stack([data[i:i+block_size] for i in ix])\n",
    "    y = torch.stack([data[i+1:i+block_size+1] for i in ix])\n",
    "    x, y = x.to(device), y.to(device)\n",
    "    return x, y\n",
    "\n",
    "xb, yb = get_batch('train')\n",
    "print('inputs:')\n",
    "print(xb.shape)\n",
    "print(xb)\n",
    "print('targets:')\n",
    "print(yb.shape)\n",
    "print(yb)"
   ]
  },
  {
   "cell_type": "markdown",
   "id": "c279fb95-03b6-4b33-8b9b-7bdb9f3789f2",
   "metadata": {},
   "source": [
    "## Model paramerters"
   ]
  },
  {
   "cell_type": "code",
   "execution_count": 413,
   "id": "3e483fa6-2a7c-44c3-8e92-85024fedf7ca",
   "metadata": {},
   "outputs": [],
   "source": [
    "n_embd = 384\n",
    "n_head = 8\n",
    "n_layer = 8\n",
    "dropout = 0.2"
   ]
  },
  {
   "cell_type": "markdown",
   "id": "d2425002-e46e-4d63-8aec-1607dcc2c0cb",
   "metadata": {},
   "source": [
    "# LLM Model"
   ]
  },
  {
   "cell_type": "code",
   "execution_count": 414,
   "id": "ca8f3e0d-ac80-4b1c-843e-85eb832d7c30",
   "metadata": {},
   "outputs": [],
   "source": [
    "class Head(nn.Module):\n",
    "    # one head of self-attention\n",
    "    def __init__(self, head_size):\n",
    "        super().__init__()\n",
    "        self.key = nn.Linear(n_embd, head_size, bias=False)\n",
    "        self.query = nn.Linear(n_embd, head_size, bias=False)\n",
    "        self.value = nn.Linear(n_embd, head_size, bias=False)\n",
    "        self.register_buffer('tril', torch.tril(torch.ones(block_size, block_size)))\n",
    "\n",
    "        self.dropout = nn.Dropout(dropout)\n",
    "\n",
    "    def forward(self, x):\n",
    "        B,T,C = x.shape\n",
    "        k = self.key(x)   # (B,T,C)\n",
    "        q = self.query(x) # (B,T,C)\n",
    "        # compute attention scores (\"affinities\")\n",
    "        wei = q @ k.transpose(-2,-1) * C**-0.5 # (B, T, C) @ (B, C, T) -> (B, T, T)\n",
    "        wei = wei.masked_fill(self.tril[:T, :T] == 0, float('-inf')) # (B, T, T)\n",
    "        wei = F.softmax(wei, dim=-1) # (B, T, T)\n",
    "        wei = self.dropout(wei)\n",
    "        # perform the weighted aggregation of the values\n",
    "        v = self.value(x) # (B,T,C)\n",
    "        out = wei @ v # (B, T, T) @ (B, T, C) -> (B, T, C)\n",
    "        return out"
   ]
  },
  {
   "cell_type": "code",
   "execution_count": 415,
   "id": "928a9b5d-bcbc-46ae-9032-e476887be8b0",
   "metadata": {},
   "outputs": [],
   "source": [
    "class MultiHeadAttention(nn.Module):\n",
    "    def __init__(self, num_heads, head_size):\n",
    "        super().__init__()\n",
    "        self.heads = nn.ModuleList([Head(head_size) for _ in range(num_heads)])\n",
    "        self.proj = nn.Linear(n_embd, n_embd)\n",
    "        self.dropout = nn.Dropout(dropout)\n",
    "\n",
    "    def forward(self, x):\n",
    "        out = torch.cat([h(x) for h in self.heads], dim=-1)\n",
    "        out = self.dropout(self.proj(out))\n",
    "        return out"
   ]
  },
  {
   "cell_type": "code",
   "execution_count": 416,
   "id": "b301ab1c-cd9e-4e38-a5b6-4b78a09e2536",
   "metadata": {},
   "outputs": [],
   "source": [
    "class FeedFoward(nn.Module):\n",
    "    def __init__(self, n_embd):\n",
    "        super().__init__()\n",
    "        self.net = nn.Sequential(\n",
    "            nn.Linear(n_embd, 4 * n_embd),\n",
    "            nn.ReLU(),\n",
    "            nn.Linear(4 * n_embd, n_embd),\n",
    "            nn.Dropout(dropout),\n",
    "        )\n",
    "\n",
    "    def forward(self, x):\n",
    "        return self.net(x)"
   ]
  },
  {
   "cell_type": "code",
   "execution_count": 417,
   "id": "49ee12f2-90ee-4fa7-a473-8ca5596fd0d4",
   "metadata": {},
   "outputs": [],
   "source": [
    "class Block(nn.Module):\n",
    "    def __init__(self, n_embd, n_head):\n",
    "        # n_embd: embedding dimension, n_head: the number of heads we'd like\n",
    "        super().__init__()\n",
    "        head_size = n_embd // n_head\n",
    "        self.sa = MultiHeadAttention(n_head, head_size)\n",
    "        self.ffwd = FeedFoward(n_embd)\n",
    "        self.ln1 = nn.LayerNorm(n_embd)\n",
    "        self.ln2 = nn.LayerNorm(n_embd)\n",
    "\n",
    "    def forward(self, x):\n",
    "        x = x + self.sa(self.ln1(x))\n",
    "        x = x + self.ffwd(self.ln2(x))\n",
    "        return x"
   ]
  },
  {
   "cell_type": "code",
   "execution_count": 418,
   "id": "91e1204f-bdfc-4b7c-b8e3-fed9746d371c",
   "metadata": {},
   "outputs": [],
   "source": [
    "class GPTLanguageModel(nn.Module):\n",
    "    def __init__(self, vocab_size):\n",
    "        super().__init__()\n",
    "        self.token_embedding_table = nn.Embedding(vocab_size, n_embd)\n",
    "        self.position_embedding_table = nn.Embedding(block_size, n_embd)\n",
    "        self.blocks = nn.Sequential(*[Block(n_embd, n_head=n_head) for _ in range(n_layer)])\n",
    "        self.ln_f = nn.LayerNorm(n_embd) # final layer norm\n",
    "        self.lm_head = nn.Linear(n_embd, vocab_size)\n",
    "\n",
    "        self.apply(self._init_weights)\n",
    "\n",
    "    # Initialize weights and bias\n",
    "    def _init_weights(self, module):\n",
    "        if isinstance(module, nn.Linear):\n",
    "            torch.nn.init.normal_(module.weight, mean=0.0, std=0.02)\n",
    "            if module.bias is not None:\n",
    "                torch.nn.init.zeros_(module.bias)\n",
    "        elif isinstance(module, nn.Embedding):\n",
    "            torch.nn.init.normal_(module.weight, mean=0.0, std=0.02)\n",
    "\n",
    "    def forward(self, index, targets=None):        \n",
    "        B, T = index.shape\n",
    "\n",
    "        tok_emb = self.token_embedding_table(index)\n",
    "        pos_emb = self.position_embedding_table(torch.arange(T, device=device))\n",
    "        x = tok_emb + pos_emb # (B, T, C)\n",
    "        x = self.blocks(x)\n",
    "        x = self.ln_f(x)\n",
    "        logits = self.lm_head(x) # (B, T, vocab_size)\n",
    "        \n",
    "        if targets is None:\n",
    "            loss = None\n",
    "        else:                        \n",
    "            B, T, C = logits.shape\n",
    "            logits = logits.view(B*T, C)\n",
    "            targets = targets.view(B*T)\n",
    "            loss = F.cross_entropy(logits, targets)\n",
    "\n",
    "        return logits, loss\n",
    "\n",
    "    def generate(self, index, max_new_tokens):\n",
    "        for _ in range(max_new_tokens):\n",
    "            index_cond = index[:, -block_size:]\n",
    "            \n",
    "            # get the predictions\n",
    "            logits, loss = self.forward(index_cond)\n",
    "            \n",
    "            # focus only on the last time step\n",
    "            logits = logits[:, -1, :] # becomes (B, C)\n",
    "            \n",
    "            # apply softmax to get probabilities\n",
    "            probs = F.softmax(logits, dim=-1) # (B, C)\n",
    "            \n",
    "            # sample from the distribution\n",
    "            index_next = torch.multinomial(probs, num_samples=1) # (B, 1)\n",
    "            \n",
    "            # append sampled index to the running sequence\n",
    "            index = torch.cat((index, index_next), dim=1) # (B, T+1) \n",
    "            \n",
    "        return index"
   ]
  },
  {
   "cell_type": "code",
   "execution_count": 419,
   "id": "61c60d95-fd92-4bac-9f52-ec6451f47d7f",
   "metadata": {},
   "outputs": [],
   "source": [
    "m = GPTLanguageModel(vocab_size)\n",
    "model = m.to(device)"
   ]
  },
  {
   "cell_type": "markdown",
   "id": "b4117296-d30f-40a8-bd1d-2d7eec27c650",
   "metadata": {},
   "source": [
    "# Optimizer + Training"
   ]
  },
  {
   "cell_type": "code",
   "execution_count": 431,
   "id": "823ed5e8-e2b3-4c27-a857-187c36c81290",
   "metadata": {},
   "outputs": [],
   "source": [
    "optimizer = torch.optim.AdamW(model.parameters(), lr=3e-4)\n",
    "steps = 3000"
   ]
  },
  {
   "cell_type": "code",
   "execution_count": 432,
   "id": "21e0a784-3a13-4575-aa74-799002f47e38",
   "metadata": {},
   "outputs": [],
   "source": [
    "@torch.no_grad()\n",
    "def estimate_loss():\n",
    "    out = {}\n",
    "    model.eval()\n",
    "    for split in ['train', 'val']:\n",
    "        losses = torch.zeros(250)\n",
    "        for k in range(250):\n",
    "            X, Y = get_batch(split)\n",
    "            logits, loss = model.forward(X, Y)\n",
    "            losses[k] = loss.item()\n",
    "        out[split] = losses.mean()\n",
    "    model.train()\n",
    "    return out"
   ]
  },
  {
   "cell_type": "code",
   "execution_count": 433,
   "id": "53d991ef-bdce-42b6-8dc7-9fcfd14b6ce7",
   "metadata": {},
   "outputs": [
    {
     "name": "stdout",
     "output_type": "stream",
     "text": [
      "step: 0, train loss: 1.285, val loss: 1.529\n",
      "step: 250, train loss: 1.278, val loss: 1.527\n",
      "step: 500, train loss: 1.248, val loss: 1.519\n",
      "step: 750, train loss: 1.239, val loss: 1.492\n",
      "step: 1000, train loss: 1.220, val loss: 1.496\n",
      "step: 1250, train loss: 1.204, val loss: 1.499\n",
      "step: 1500, train loss: 1.193, val loss: 1.496\n",
      "step: 1750, train loss: 1.183, val loss: 1.489\n",
      "step: 2000, train loss: 1.173, val loss: 1.485\n",
      "step: 2250, train loss: 1.156, val loss: 1.486\n",
      "step: 2500, train loss: 1.143, val loss: 1.498\n",
      "step: 2750, train loss: 1.132, val loss: 1.489\n",
      "1.2248213291168213\n"
     ]
    }
   ],
   "source": [
    "for step in range(steps):\n",
    "    if step % 250 == 0:\n",
    "        losses = estimate_loss()\n",
    "        print(f\"step: {step}, train loss: {losses['train']:.3f}, val loss: {losses['val']:.3f}\")\n",
    "    \n",
    "    # sample a batch of data\n",
    "    xb, yb = get_batch('train')\n",
    "\n",
    "    # evaluate the loss\n",
    "    logits, loss = model.forward(xb, yb)\n",
    "    optimizer.zero_grad(set_to_none=True)\n",
    "    loss.backward()\n",
    "    optimizer.step()\n",
    "\n",
    "print(loss.item())"
   ]
  },
  {
   "cell_type": "code",
   "execution_count": 434,
   "id": "4cbf56a6-3f6a-4c13-9e50-776f2dda529c",
   "metadata": {},
   "outputs": [
    {
     "name": "stdout",
     "output_type": "stream",
     "text": [
      "We are accounted poor citizens,\n",
      "Were yet scorn, we wept your highness.\n",
      "\n",
      "PARIS:\n",
      "Good deposed,\n",
      "And I have, by old Cupitol, what shame you fnurst\n",
      "Could not fourten.\n",
      "\n",
      "CAMILLO:\n",
      "Are you king?\n",
      "\n",
      "HENRY PERCZABETH:\n",
      "Commands, we'll away to content, all did to fight;\n",
      "And will you colour please. Plantage your honours;\n",
      "And procloxe pranks, are you your ward cozen'd:\n",
      "For as tymall shall be gone, and we know them chosel.\n",
      "We have more heaven no oppointable of his riseon,\n",
      "With confince to know you, nobler,\n",
      "Warwick, peace; and changing them fa\n"
     ]
    }
   ],
   "source": [
    "prompt = \"We are accounted poor citizens\"\n",
    "context = torch.tensor(encode(prompt), dtype=torch.long, device=device)\n",
    "generated_chars = decode(model.generate(context.unsqueeze(0), max_new_tokens=500)[0].tolist())\n",
    "print(generated_chars)"
   ]
  },
  {
   "cell_type": "code",
   "execution_count": null,
   "id": "58284231-3c3c-4090-b4fa-f554aedfd7b9",
   "metadata": {},
   "outputs": [],
   "source": []
  }
 ],
 "metadata": {
  "kernelspec": {
   "display_name": "Python 3 (ipykernel)",
   "language": "python",
   "name": "python3"
  },
  "language_info": {
   "codemirror_mode": {
    "name": "ipython",
    "version": 3
   },
   "file_extension": ".py",
   "mimetype": "text/x-python",
   "name": "python",
   "nbconvert_exporter": "python",
   "pygments_lexer": "ipython3",
   "version": "3.11.5"
  }
 },
 "nbformat": 4,
 "nbformat_minor": 5
}
